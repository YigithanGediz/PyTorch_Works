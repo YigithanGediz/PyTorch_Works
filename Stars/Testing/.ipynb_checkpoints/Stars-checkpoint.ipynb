{
 "cells": [
  {
   "cell_type": "code",
   "execution_count": 1,
   "metadata": {},
   "outputs": [],
   "source": [
    "import torch\n",
    "import os\n",
    "import torchvision. transforms as transforms\n",
    "from torch import nn\n",
    "from torch.utils.data import DataLoader\n",
    "import numpy as np\n",
    "import pandas as pd\n",
    "from sklearn.model_selection import train_test_split\n",
    "from math import ceil\n",
    "\n",
    "root_path = \"/home/yigithan/PyTorch_Projects/Stars/\"\n",
    "import sys\n",
    "sys.path.insert(1, root_path)\n",
    "\n",
    "from Models.Stars import *"
   ]
  },
  {
   "cell_type": "code",
   "execution_count": 3,
   "metadata": {
    "pycharm": {
     "name": "#%%\n"
    }
   },
   "outputs": [],
   "source": [
    "# Set up path\n",
    "data_path = os.path.join(root_path, \"Data/Stars.csv\")"
   ]
  },
  {
   "cell_type": "code",
   "execution_count": 4,
   "metadata": {
    "pycharm": {
     "name": "#%%\n"
    }
   },
   "outputs": [
    {
     "data": {
      "text/plain": "   Temperature         L       R    A_M Color Spectral_Class  Type\n0         3068  0.002400  0.1700  16.12   Red              M     0\n1         3042  0.000500  0.1542  16.60   Red              M     0\n2         2600  0.000300  0.1020  18.70   Red              M     0\n3         2800  0.000200  0.1600  16.65   Red              M     0\n4         1939  0.000138  0.1030  20.06   Red              M     0",
      "text/html": "<div>\n<style scoped>\n    .dataframe tbody tr th:only-of-type {\n        vertical-align: middle;\n    }\n\n    .dataframe tbody tr th {\n        vertical-align: top;\n    }\n\n    .dataframe thead th {\n        text-align: right;\n    }\n</style>\n<table border=\"1\" class=\"dataframe\">\n  <thead>\n    <tr style=\"text-align: right;\">\n      <th></th>\n      <th>Temperature</th>\n      <th>L</th>\n      <th>R</th>\n      <th>A_M</th>\n      <th>Color</th>\n      <th>Spectral_Class</th>\n      <th>Type</th>\n    </tr>\n  </thead>\n  <tbody>\n    <tr>\n      <th>0</th>\n      <td>3068</td>\n      <td>0.002400</td>\n      <td>0.1700</td>\n      <td>16.12</td>\n      <td>Red</td>\n      <td>M</td>\n      <td>0</td>\n    </tr>\n    <tr>\n      <th>1</th>\n      <td>3042</td>\n      <td>0.000500</td>\n      <td>0.1542</td>\n      <td>16.60</td>\n      <td>Red</td>\n      <td>M</td>\n      <td>0</td>\n    </tr>\n    <tr>\n      <th>2</th>\n      <td>2600</td>\n      <td>0.000300</td>\n      <td>0.1020</td>\n      <td>18.70</td>\n      <td>Red</td>\n      <td>M</td>\n      <td>0</td>\n    </tr>\n    <tr>\n      <th>3</th>\n      <td>2800</td>\n      <td>0.000200</td>\n      <td>0.1600</td>\n      <td>16.65</td>\n      <td>Red</td>\n      <td>M</td>\n      <td>0</td>\n    </tr>\n    <tr>\n      <th>4</th>\n      <td>1939</td>\n      <td>0.000138</td>\n      <td>0.1030</td>\n      <td>20.06</td>\n      <td>Red</td>\n      <td>M</td>\n      <td>0</td>\n    </tr>\n  </tbody>\n</table>\n</div>"
     },
     "execution_count": 4,
     "metadata": {},
     "output_type": "execute_result"
    }
   ],
   "source": [
    "# Load Data\n",
    "df = pd.read_csv(data_path)\n",
    "df.head()\n"
   ]
  },
  {
   "cell_type": "code",
   "execution_count": 5,
   "metadata": {},
   "outputs": [
    {
     "name": "stdout",
     "output_type": "stream",
     "text": [
      "Data Shape:  (240, 7)\n",
      "Data Columns:  Index(['Temperature', 'L', 'R', 'A_M', 'Color', 'Spectral_Class', 'Type'], dtype='object')\n"
     ]
    }
   ],
   "source": [
    "print(\"Data Shape: \", df.shape)\n",
    "print(\"Data Columns: \", df.columns)"
   ]
  },
  {
   "cell_type": "code",
   "execution_count": 6,
   "metadata": {
    "pycharm": {
     "name": "#%%\n"
    }
   },
   "outputs": [
    {
     "name": "stdout",
     "output_type": "stream",
     "text": [
      "Class distribution\n",
      "5    40\n",
      "4    40\n",
      "3    40\n",
      "2    40\n",
      "1    40\n",
      "0    40\n",
      "Name: Type, dtype: int64\n"
     ]
    }
   ],
   "source": [
    "print(\"Class distribution\")\n",
    "print(df[\"Type\"].value_counts())"
   ]
  },
  {
   "cell_type": "code",
   "execution_count": 7,
   "metadata": {
    "pycharm": {
     "name": "#%%\n"
    }
   },
   "outputs": [
    {
     "name": "stdout",
     "output_type": "stream",
     "text": [
      "Colors\n",
      "['Red' 'Blue White' 'White' 'Yellowish White' 'Blue white'\n",
      " 'Pale yellow orange' 'Blue' 'Blue-white' 'Whitish' 'yellow-white'\n",
      " 'Orange' 'White-Yellow' 'white' 'yellowish' 'Yellowish' 'Orange-Red'\n",
      " 'Blue-White']\n"
     ]
    }
   ],
   "source": [
    "print(\"Colors\")\n",
    "print(df.Color.unique())"
   ]
  },
  {
   "cell_type": "code",
   "execution_count": 8,
   "metadata": {},
   "outputs": [],
   "source": [
    "# Replace same colors into single color\n",
    "df[\"Color\"] = df[\"Color\"].replace([\"Blue white\", \"Blue-white\", \"Blue-White\"], \"Blue White\")\n",
    "df[\"Color\"] = df[\"Color\"].replace([\"Yellowish White\", \"yellow-white\", \"White-Yellow\"], \"Yellow White\")\n",
    "df[\"Color\"] = df[\"Color\"].replace([\"white\", \"Whitish\"], \"White\")\n",
    "df[\"Color\"] = df[\"Color\"].replace([\"yellowish\", \"Yellowish\"], \"Yellow\")"
   ]
  },
  {
   "cell_type": "code",
   "execution_count": 9,
   "metadata": {},
   "outputs": [
    {
     "name": "stdout",
     "output_type": "stream",
     "text": [
      "Colors\n",
      "['Red' 'Blue White' 'White' 'Yellow White' 'Pale yellow orange' 'Blue'\n",
      " 'Orange' 'Yellow' 'Orange-Red']\n"
     ]
    }
   ],
   "source": [
    "print(\"Colors\")\n",
    "print(df.Color.unique())"
   ]
  },
  {
   "cell_type": "code",
   "execution_count": 10,
   "metadata": {},
   "outputs": [
    {
     "name": "stdout",
     "output_type": "stream",
     "text": [
      "Spectral Classes\n",
      "['M' 'B' 'A' 'F' 'O' 'K' 'G']\n"
     ]
    }
   ],
   "source": [
    "print(\"Spectral Classes\")\n",
    "print(df.Spectral_Class.unique())"
   ]
  },
  {
   "cell_type": "code",
   "execution_count": 11,
   "metadata": {},
   "outputs": [
    {
     "data": {
      "text/plain": "   Temperature         L       R    A_M Color Spectral_Class  Type  \\\n0         3068  0.002400  0.1700  16.12   Red              M     0   \n1         3042  0.000500  0.1542  16.60   Red              M     0   \n2         2600  0.000300  0.1020  18.70   Red              M     0   \n3         2800  0.000200  0.1600  16.65   Red              M     0   \n4         1939  0.000138  0.1030  20.06   Red              M     0   \n\n   Color_Blue  Color_Blue White  Color_Orange  ...  Color_White  Color_Yellow  \\\n0           0                 0             0  ...            0             0   \n1           0                 0             0  ...            0             0   \n2           0                 0             0  ...            0             0   \n3           0                 0             0  ...            0             0   \n4           0                 0             0  ...            0             0   \n\n   Color_Yellow White  Spectral_Class_A  Spectral_Class_B  Spectral_Class_F  \\\n0                   0                 0                 0                 0   \n1                   0                 0                 0                 0   \n2                   0                 0                 0                 0   \n3                   0                 0                 0                 0   \n4                   0                 0                 0                 0   \n\n   Spectral_Class_G  Spectral_Class_K  Spectral_Class_M  Spectral_Class_O  \n0                 0                 0                 1                 0  \n1                 0                 0                 1                 0  \n2                 0                 0                 1                 0  \n3                 0                 0                 1                 0  \n4                 0                 0                 1                 0  \n\n[5 rows x 23 columns]",
      "text/html": "<div>\n<style scoped>\n    .dataframe tbody tr th:only-of-type {\n        vertical-align: middle;\n    }\n\n    .dataframe tbody tr th {\n        vertical-align: top;\n    }\n\n    .dataframe thead th {\n        text-align: right;\n    }\n</style>\n<table border=\"1\" class=\"dataframe\">\n  <thead>\n    <tr style=\"text-align: right;\">\n      <th></th>\n      <th>Temperature</th>\n      <th>L</th>\n      <th>R</th>\n      <th>A_M</th>\n      <th>Color</th>\n      <th>Spectral_Class</th>\n      <th>Type</th>\n      <th>Color_Blue</th>\n      <th>Color_Blue White</th>\n      <th>Color_Orange</th>\n      <th>...</th>\n      <th>Color_White</th>\n      <th>Color_Yellow</th>\n      <th>Color_Yellow White</th>\n      <th>Spectral_Class_A</th>\n      <th>Spectral_Class_B</th>\n      <th>Spectral_Class_F</th>\n      <th>Spectral_Class_G</th>\n      <th>Spectral_Class_K</th>\n      <th>Spectral_Class_M</th>\n      <th>Spectral_Class_O</th>\n    </tr>\n  </thead>\n  <tbody>\n    <tr>\n      <th>0</th>\n      <td>3068</td>\n      <td>0.002400</td>\n      <td>0.1700</td>\n      <td>16.12</td>\n      <td>Red</td>\n      <td>M</td>\n      <td>0</td>\n      <td>0</td>\n      <td>0</td>\n      <td>0</td>\n      <td>...</td>\n      <td>0</td>\n      <td>0</td>\n      <td>0</td>\n      <td>0</td>\n      <td>0</td>\n      <td>0</td>\n      <td>0</td>\n      <td>0</td>\n      <td>1</td>\n      <td>0</td>\n    </tr>\n    <tr>\n      <th>1</th>\n      <td>3042</td>\n      <td>0.000500</td>\n      <td>0.1542</td>\n      <td>16.60</td>\n      <td>Red</td>\n      <td>M</td>\n      <td>0</td>\n      <td>0</td>\n      <td>0</td>\n      <td>0</td>\n      <td>...</td>\n      <td>0</td>\n      <td>0</td>\n      <td>0</td>\n      <td>0</td>\n      <td>0</td>\n      <td>0</td>\n      <td>0</td>\n      <td>0</td>\n      <td>1</td>\n      <td>0</td>\n    </tr>\n    <tr>\n      <th>2</th>\n      <td>2600</td>\n      <td>0.000300</td>\n      <td>0.1020</td>\n      <td>18.70</td>\n      <td>Red</td>\n      <td>M</td>\n      <td>0</td>\n      <td>0</td>\n      <td>0</td>\n      <td>0</td>\n      <td>...</td>\n      <td>0</td>\n      <td>0</td>\n      <td>0</td>\n      <td>0</td>\n      <td>0</td>\n      <td>0</td>\n      <td>0</td>\n      <td>0</td>\n      <td>1</td>\n      <td>0</td>\n    </tr>\n    <tr>\n      <th>3</th>\n      <td>2800</td>\n      <td>0.000200</td>\n      <td>0.1600</td>\n      <td>16.65</td>\n      <td>Red</td>\n      <td>M</td>\n      <td>0</td>\n      <td>0</td>\n      <td>0</td>\n      <td>0</td>\n      <td>...</td>\n      <td>0</td>\n      <td>0</td>\n      <td>0</td>\n      <td>0</td>\n      <td>0</td>\n      <td>0</td>\n      <td>0</td>\n      <td>0</td>\n      <td>1</td>\n      <td>0</td>\n    </tr>\n    <tr>\n      <th>4</th>\n      <td>1939</td>\n      <td>0.000138</td>\n      <td>0.1030</td>\n      <td>20.06</td>\n      <td>Red</td>\n      <td>M</td>\n      <td>0</td>\n      <td>0</td>\n      <td>0</td>\n      <td>0</td>\n      <td>...</td>\n      <td>0</td>\n      <td>0</td>\n      <td>0</td>\n      <td>0</td>\n      <td>0</td>\n      <td>0</td>\n      <td>0</td>\n      <td>0</td>\n      <td>1</td>\n      <td>0</td>\n    </tr>\n  </tbody>\n</table>\n<p>5 rows × 23 columns</p>\n</div>"
     },
     "execution_count": 11,
     "metadata": {},
     "output_type": "execute_result"
    }
   ],
   "source": [
    "# One hot encode categorical variables\n",
    "colors_frame = pd.get_dummies(df.Color, prefix=\"Color\")\n",
    "s_classes_frame = pd.get_dummies(df.Spectral_Class, prefix=\"Spectral_Class\")\n",
    "\n",
    "frames = [df, colors_frame, s_classes_frame]\n",
    "df = pd.concat(frames, axis=1)\n",
    "df.head()"
   ]
  },
  {
   "cell_type": "code",
   "execution_count": 12,
   "metadata": {},
   "outputs": [
    {
     "data": {
      "text/plain": "   Temperature         L       R    A_M  Type  Color_Blue  Color_Blue White  \\\n0         3068  0.002400  0.1700  16.12     0           0                 0   \n1         3042  0.000500  0.1542  16.60     0           0                 0   \n2         2600  0.000300  0.1020  18.70     0           0                 0   \n3         2800  0.000200  0.1600  16.65     0           0                 0   \n4         1939  0.000138  0.1030  20.06     0           0                 0   \n\n   Color_Orange  Color_Orange-Red  Color_Pale yellow orange  ...  Color_White  \\\n0             0                 0                         0  ...            0   \n1             0                 0                         0  ...            0   \n2             0                 0                         0  ...            0   \n3             0                 0                         0  ...            0   \n4             0                 0                         0  ...            0   \n\n   Color_Yellow  Color_Yellow White  Spectral_Class_A  Spectral_Class_B  \\\n0             0                   0                 0                 0   \n1             0                   0                 0                 0   \n2             0                   0                 0                 0   \n3             0                   0                 0                 0   \n4             0                   0                 0                 0   \n\n   Spectral_Class_F  Spectral_Class_G  Spectral_Class_K  Spectral_Class_M  \\\n0                 0                 0                 0                 1   \n1                 0                 0                 0                 1   \n2                 0                 0                 0                 1   \n3                 0                 0                 0                 1   \n4                 0                 0                 0                 1   \n\n   Spectral_Class_O  \n0                 0  \n1                 0  \n2                 0  \n3                 0  \n4                 0  \n\n[5 rows x 21 columns]",
      "text/html": "<div>\n<style scoped>\n    .dataframe tbody tr th:only-of-type {\n        vertical-align: middle;\n    }\n\n    .dataframe tbody tr th {\n        vertical-align: top;\n    }\n\n    .dataframe thead th {\n        text-align: right;\n    }\n</style>\n<table border=\"1\" class=\"dataframe\">\n  <thead>\n    <tr style=\"text-align: right;\">\n      <th></th>\n      <th>Temperature</th>\n      <th>L</th>\n      <th>R</th>\n      <th>A_M</th>\n      <th>Type</th>\n      <th>Color_Blue</th>\n      <th>Color_Blue White</th>\n      <th>Color_Orange</th>\n      <th>Color_Orange-Red</th>\n      <th>Color_Pale yellow orange</th>\n      <th>...</th>\n      <th>Color_White</th>\n      <th>Color_Yellow</th>\n      <th>Color_Yellow White</th>\n      <th>Spectral_Class_A</th>\n      <th>Spectral_Class_B</th>\n      <th>Spectral_Class_F</th>\n      <th>Spectral_Class_G</th>\n      <th>Spectral_Class_K</th>\n      <th>Spectral_Class_M</th>\n      <th>Spectral_Class_O</th>\n    </tr>\n  </thead>\n  <tbody>\n    <tr>\n      <th>0</th>\n      <td>3068</td>\n      <td>0.002400</td>\n      <td>0.1700</td>\n      <td>16.12</td>\n      <td>0</td>\n      <td>0</td>\n      <td>0</td>\n      <td>0</td>\n      <td>0</td>\n      <td>0</td>\n      <td>...</td>\n      <td>0</td>\n      <td>0</td>\n      <td>0</td>\n      <td>0</td>\n      <td>0</td>\n      <td>0</td>\n      <td>0</td>\n      <td>0</td>\n      <td>1</td>\n      <td>0</td>\n    </tr>\n    <tr>\n      <th>1</th>\n      <td>3042</td>\n      <td>0.000500</td>\n      <td>0.1542</td>\n      <td>16.60</td>\n      <td>0</td>\n      <td>0</td>\n      <td>0</td>\n      <td>0</td>\n      <td>0</td>\n      <td>0</td>\n      <td>...</td>\n      <td>0</td>\n      <td>0</td>\n      <td>0</td>\n      <td>0</td>\n      <td>0</td>\n      <td>0</td>\n      <td>0</td>\n      <td>0</td>\n      <td>1</td>\n      <td>0</td>\n    </tr>\n    <tr>\n      <th>2</th>\n      <td>2600</td>\n      <td>0.000300</td>\n      <td>0.1020</td>\n      <td>18.70</td>\n      <td>0</td>\n      <td>0</td>\n      <td>0</td>\n      <td>0</td>\n      <td>0</td>\n      <td>0</td>\n      <td>...</td>\n      <td>0</td>\n      <td>0</td>\n      <td>0</td>\n      <td>0</td>\n      <td>0</td>\n      <td>0</td>\n      <td>0</td>\n      <td>0</td>\n      <td>1</td>\n      <td>0</td>\n    </tr>\n    <tr>\n      <th>3</th>\n      <td>2800</td>\n      <td>0.000200</td>\n      <td>0.1600</td>\n      <td>16.65</td>\n      <td>0</td>\n      <td>0</td>\n      <td>0</td>\n      <td>0</td>\n      <td>0</td>\n      <td>0</td>\n      <td>...</td>\n      <td>0</td>\n      <td>0</td>\n      <td>0</td>\n      <td>0</td>\n      <td>0</td>\n      <td>0</td>\n      <td>0</td>\n      <td>0</td>\n      <td>1</td>\n      <td>0</td>\n    </tr>\n    <tr>\n      <th>4</th>\n      <td>1939</td>\n      <td>0.000138</td>\n      <td>0.1030</td>\n      <td>20.06</td>\n      <td>0</td>\n      <td>0</td>\n      <td>0</td>\n      <td>0</td>\n      <td>0</td>\n      <td>0</td>\n      <td>...</td>\n      <td>0</td>\n      <td>0</td>\n      <td>0</td>\n      <td>0</td>\n      <td>0</td>\n      <td>0</td>\n      <td>0</td>\n      <td>0</td>\n      <td>1</td>\n      <td>0</td>\n    </tr>\n  </tbody>\n</table>\n<p>5 rows × 21 columns</p>\n</div>"
     },
     "execution_count": 12,
     "metadata": {},
     "output_type": "execute_result"
    }
   ],
   "source": [
    "del df[\"Color\"]\n",
    "del df[\"Spectral_Class\"]\n",
    "df.head()"
   ]
  },
  {
   "cell_type": "code",
   "execution_count": 13,
   "metadata": {},
   "outputs": [
    {
     "data": {
      "text/plain": "   Temperature         L       R    A_M  Color_Blue  Color_Blue White  \\\n0         3068  0.002400  0.1700  16.12           0                 0   \n1         3042  0.000500  0.1542  16.60           0                 0   \n2         2600  0.000300  0.1020  18.70           0                 0   \n3         2800  0.000200  0.1600  16.65           0                 0   \n4         1939  0.000138  0.1030  20.06           0                 0   \n\n   Color_Orange  Color_Orange-Red  Color_Pale yellow orange  Color_Red  \\\n0             0                 0                         0          1   \n1             0                 0                         0          1   \n2             0                 0                         0          1   \n3             0                 0                         0          1   \n4             0                 0                         0          1   \n\n   Color_White  Color_Yellow  Color_Yellow White  Spectral_Class_A  \\\n0            0             0                   0                 0   \n1            0             0                   0                 0   \n2            0             0                   0                 0   \n3            0             0                   0                 0   \n4            0             0                   0                 0   \n\n   Spectral_Class_B  Spectral_Class_F  Spectral_Class_G  Spectral_Class_K  \\\n0                 0                 0                 0                 0   \n1                 0                 0                 0                 0   \n2                 0                 0                 0                 0   \n3                 0                 0                 0                 0   \n4                 0                 0                 0                 0   \n\n   Spectral_Class_M  Spectral_Class_O  \n0                 1                 0  \n1                 1                 0  \n2                 1                 0  \n3                 1                 0  \n4                 1                 0  ",
      "text/html": "<div>\n<style scoped>\n    .dataframe tbody tr th:only-of-type {\n        vertical-align: middle;\n    }\n\n    .dataframe tbody tr th {\n        vertical-align: top;\n    }\n\n    .dataframe thead th {\n        text-align: right;\n    }\n</style>\n<table border=\"1\" class=\"dataframe\">\n  <thead>\n    <tr style=\"text-align: right;\">\n      <th></th>\n      <th>Temperature</th>\n      <th>L</th>\n      <th>R</th>\n      <th>A_M</th>\n      <th>Color_Blue</th>\n      <th>Color_Blue White</th>\n      <th>Color_Orange</th>\n      <th>Color_Orange-Red</th>\n      <th>Color_Pale yellow orange</th>\n      <th>Color_Red</th>\n      <th>Color_White</th>\n      <th>Color_Yellow</th>\n      <th>Color_Yellow White</th>\n      <th>Spectral_Class_A</th>\n      <th>Spectral_Class_B</th>\n      <th>Spectral_Class_F</th>\n      <th>Spectral_Class_G</th>\n      <th>Spectral_Class_K</th>\n      <th>Spectral_Class_M</th>\n      <th>Spectral_Class_O</th>\n    </tr>\n  </thead>\n  <tbody>\n    <tr>\n      <th>0</th>\n      <td>3068</td>\n      <td>0.002400</td>\n      <td>0.1700</td>\n      <td>16.12</td>\n      <td>0</td>\n      <td>0</td>\n      <td>0</td>\n      <td>0</td>\n      <td>0</td>\n      <td>1</td>\n      <td>0</td>\n      <td>0</td>\n      <td>0</td>\n      <td>0</td>\n      <td>0</td>\n      <td>0</td>\n      <td>0</td>\n      <td>0</td>\n      <td>1</td>\n      <td>0</td>\n    </tr>\n    <tr>\n      <th>1</th>\n      <td>3042</td>\n      <td>0.000500</td>\n      <td>0.1542</td>\n      <td>16.60</td>\n      <td>0</td>\n      <td>0</td>\n      <td>0</td>\n      <td>0</td>\n      <td>0</td>\n      <td>1</td>\n      <td>0</td>\n      <td>0</td>\n      <td>0</td>\n      <td>0</td>\n      <td>0</td>\n      <td>0</td>\n      <td>0</td>\n      <td>0</td>\n      <td>1</td>\n      <td>0</td>\n    </tr>\n    <tr>\n      <th>2</th>\n      <td>2600</td>\n      <td>0.000300</td>\n      <td>0.1020</td>\n      <td>18.70</td>\n      <td>0</td>\n      <td>0</td>\n      <td>0</td>\n      <td>0</td>\n      <td>0</td>\n      <td>1</td>\n      <td>0</td>\n      <td>0</td>\n      <td>0</td>\n      <td>0</td>\n      <td>0</td>\n      <td>0</td>\n      <td>0</td>\n      <td>0</td>\n      <td>1</td>\n      <td>0</td>\n    </tr>\n    <tr>\n      <th>3</th>\n      <td>2800</td>\n      <td>0.000200</td>\n      <td>0.1600</td>\n      <td>16.65</td>\n      <td>0</td>\n      <td>0</td>\n      <td>0</td>\n      <td>0</td>\n      <td>0</td>\n      <td>1</td>\n      <td>0</td>\n      <td>0</td>\n      <td>0</td>\n      <td>0</td>\n      <td>0</td>\n      <td>0</td>\n      <td>0</td>\n      <td>0</td>\n      <td>1</td>\n      <td>0</td>\n    </tr>\n    <tr>\n      <th>4</th>\n      <td>1939</td>\n      <td>0.000138</td>\n      <td>0.1030</td>\n      <td>20.06</td>\n      <td>0</td>\n      <td>0</td>\n      <td>0</td>\n      <td>0</td>\n      <td>0</td>\n      <td>1</td>\n      <td>0</td>\n      <td>0</td>\n      <td>0</td>\n      <td>0</td>\n      <td>0</td>\n      <td>0</td>\n      <td>0</td>\n      <td>0</td>\n      <td>1</td>\n      <td>0</td>\n    </tr>\n  </tbody>\n</table>\n</div>"
     },
     "execution_count": 13,
     "metadata": {},
     "output_type": "execute_result"
    }
   ],
   "source": [
    "labels = df[\"Type\"]\n",
    "del df[\"Type\"]\n",
    "df.head()"
   ]
  },
  {
   "cell_type": "code",
   "execution_count": 14,
   "metadata": {},
   "outputs": [
    {
     "name": "stdout",
     "output_type": "stream",
     "text": [
      "6\n"
     ]
    }
   ],
   "source": [
    "X = df.to_numpy()\n",
    "Y = labels.to_numpy()\n",
    "num_classes = np.unique(Y).shape[0]\n",
    "print(num_classes)\n",
    "\n",
    "X_train, X_test, y_train, y_test = train_test_split(X, Y, test_size=0.25, random_state=42)\n"
   ]
  },
  {
   "cell_type": "code",
   "execution_count": 15,
   "metadata": {},
   "outputs": [],
   "source": [
    "num_epochs = 3000\n",
    "total_samples = X.shape[0]\n",
    "total_features = X.shape[1]\n",
    "batch_size = total_samples\n",
    "n_iterations = ceil(total_samples / batch_size)\n",
    "learning_rate = 1e-3\n",
    "device = torch.device('cuda' if torch.cuda.is_available() else 'cpu')"
   ]
  },
  {
   "cell_type": "code",
   "execution_count": 16,
   "metadata": {},
   "outputs": [],
   "source": [
    "# Setup Datasets\n",
    "train_dataset = StarsDataset(X_train.astype(\"float32\"), y_train.astype(\"float32\"))\n",
    "train_loader = DataLoader(dataset=train_dataset, batch_size =batch_size, shuffle=True)\n",
    "\n",
    "test_dataset = StarsDataset(X_test.astype(\"float32\"), y_test.astype(\"float32\"))\n",
    "test_loader = DataLoader(dataset=test_dataset, batch_size = batch_size, shuffle=True)"
   ]
  },
  {
   "cell_type": "code",
   "execution_count": 17,
   "metadata": {},
   "outputs": [],
   "source": [
    "nn_model = Model(total_features, num_classes).to(device)\n",
    "criterion = nn.CrossEntropyLoss()\n",
    "optimizer = torch.optim.Adam(nn_model.parameters(), lr = learning_rate)"
   ]
  },
  {
   "cell_type": "code",
   "execution_count": 18,
   "metadata": {},
   "outputs": [
    {
     "name": "stdout",
     "output_type": "stream",
     "text": [
      "Epoch [1/3000], Loss: 1406.5653\n",
      "Epoch [51/3000], Loss: 38.5982\n",
      "Epoch [101/3000], Loss: 3.2057\n",
      "Epoch [151/3000], Loss: 1.5168\n",
      "Epoch [201/3000], Loss: 1.0950\n",
      "Epoch [251/3000], Loss: 0.7490\n",
      "Epoch [301/3000], Loss: 0.6717\n",
      "Epoch [351/3000], Loss: 0.6198\n",
      "Epoch [401/3000], Loss: 0.5976\n",
      "Epoch [451/3000], Loss: 0.5772\n",
      "Epoch [501/3000], Loss: 0.5579\n",
      "Epoch [551/3000], Loss: 0.5397\n",
      "Epoch [601/3000], Loss: 0.5224\n",
      "Epoch [651/3000], Loss: 0.5059\n",
      "Epoch [701/3000], Loss: 0.4903\n",
      "Epoch [751/3000], Loss: 0.4754\n",
      "Epoch [801/3000], Loss: 0.4611\n",
      "Epoch [851/3000], Loss: 0.4475\n",
      "Epoch [901/3000], Loss: 0.4345\n",
      "Epoch [951/3000], Loss: 0.4220\n",
      "Epoch [1001/3000], Loss: 0.4101\n",
      "Epoch [1051/3000], Loss: 0.3985\n",
      "Epoch [1101/3000], Loss: 0.3875\n",
      "Epoch [1151/3000], Loss: 0.3768\n",
      "Epoch [1201/3000], Loss: 0.3665\n",
      "Epoch [1251/3000], Loss: 0.3566\n",
      "Epoch [1301/3000], Loss: 0.3470\n",
      "Epoch [1351/3000], Loss: 0.3377\n",
      "Epoch [1401/3000], Loss: 0.3287\n",
      "Epoch [1451/3000], Loss: 0.3199\n",
      "Epoch [1501/3000], Loss: 0.3115\n",
      "Epoch [1551/3000], Loss: 0.3032\n",
      "Epoch [1601/3000], Loss: 0.2952\n",
      "Epoch [1651/3000], Loss: 0.2874\n",
      "Epoch [1701/3000], Loss: 0.2798\n",
      "Epoch [1751/3000], Loss: 0.2724\n",
      "Epoch [1801/3000], Loss: 0.2652\n",
      "Epoch [1851/3000], Loss: 0.2581\n",
      "Epoch [1901/3000], Loss: 0.2512\n",
      "Epoch [1951/3000], Loss: 0.2444\n",
      "Epoch [2001/3000], Loss: 0.2378\n",
      "Epoch [2051/3000], Loss: 0.2313\n",
      "Epoch [2101/3000], Loss: 0.2249\n",
      "Epoch [2151/3000], Loss: 0.2187\n",
      "Epoch [2201/3000], Loss: 0.2126\n",
      "Epoch [2251/3000], Loss: 0.2066\n",
      "Epoch [2301/3000], Loss: 0.2007\n",
      "Epoch [2351/3000], Loss: 0.1950\n",
      "Epoch [2401/3000], Loss: 0.1893\n",
      "Epoch [2451/3000], Loss: 0.1838\n",
      "Epoch [2501/3000], Loss: 0.1784\n",
      "Epoch [2551/3000], Loss: 0.1732\n",
      "Epoch [2601/3000], Loss: 0.1681\n",
      "Epoch [2651/3000], Loss: 0.1639\n",
      "Epoch [2701/3000], Loss: 6.9107\n",
      "Epoch [2751/3000], Loss: 1.1602\n",
      "Epoch [2801/3000], Loss: 0.1684\n",
      "Epoch [2851/3000], Loss: 0.1644\n",
      "Epoch [2901/3000], Loss: 0.1610\n",
      "Epoch [2951/3000], Loss: 0.1577\n"
     ]
    }
   ],
   "source": [
    "# Training loop\n",
    "for epoch in range(num_epochs):\n",
    "    for i, (inputs, labels) in enumerate(train_loader):\n",
    "        labels = labels.to(device)\n",
    "        inputs = inputs.to(device)\n",
    "        outputs = nn_model(inputs)\n",
    "        loss = criterion(outputs, labels)\n",
    "        \n",
    "        optimizer.zero_grad()\n",
    "        loss.backward()\n",
    "        optimizer.step()\n",
    "        \n",
    "        if epoch % 50 == 0:\n",
    "            print (f'Epoch [{epoch+1}/{num_epochs}], Loss: {loss.item():.4f}')"
   ]
  },
  {
   "cell_type": "code",
   "execution_count": 19,
   "metadata": {},
   "outputs": [
    {
     "name": "stdout",
     "output_type": "stream",
     "text": [
      "Accuracy of the network on the 60 test images: 96.66666666666667 %\n"
     ]
    }
   ],
   "source": [
    "with torch.no_grad():\n",
    "    n_correct = 0\n",
    "    n_samples = 0\n",
    "    for inputs, labels in test_loader:\n",
    "        inputs = inputs.to(device)\n",
    "        labels = labels.to(device)\n",
    "        outputs = nn_model(inputs)\n",
    "        _, predicted = torch.max(outputs.data, 1)\n",
    "        n_samples += labels.size(0)\n",
    "        n_correct += (predicted == labels).sum().item()\n",
    "        \n",
    "    acc = 100.0 * n_correct / n_samples\n",
    "    print(f'Accuracy of the network on the {X_test.shape[0]} test samples: {acc} %')\n"
   ]
  },
  {
   "cell_type": "code",
   "execution_count": 19,
   "metadata": {},
   "outputs": [],
   "source": []
  },
  {
   "cell_type": "code",
   "execution_count": 19,
   "outputs": [],
   "source": [],
   "metadata": {
    "collapsed": false,
    "pycharm": {
     "name": "#%%\n"
    }
   }
  },
  {
   "cell_type": "code",
   "execution_count": null,
   "outputs": [],
   "source": [],
   "metadata": {
    "collapsed": false,
    "pycharm": {
     "name": "#%%\n"
    }
   }
  }
 ],
 "metadata": {
  "kernelspec": {
   "display_name": "Python 3",
   "language": "python",
   "name": "python3"
  },
  "language_info": {
   "codemirror_mode": {
    "name": "ipython",
    "version": 3
   },
   "file_extension": ".py",
   "mimetype": "text/x-python",
   "name": "python",
   "nbconvert_exporter": "python",
   "pygments_lexer": "ipython3",
   "version": "3.6.9"
  }
 },
 "nbformat": 4,
 "nbformat_minor": 1
}